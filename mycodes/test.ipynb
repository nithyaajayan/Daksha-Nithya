{
 "cells": [
  {
   "cell_type": "code",
   "execution_count": null,
   "id": "18f8d217",
   "metadata": {},
   "outputs": [],
   "source": [
    "import sys\n",
    "import os\n",
    "sys.path.append(os.path.abspath(\"..\"))\n",
    "from localisation.locfunction import *\n",
    "\n",
    "import pandas as pd\n",
    "import numpy as np\n",
    "\n",
    "n=100\n",
    "noise=3000\n",
    "flux=2780\n",
    "NSIDE = 128\n",
    "panels=5\n",
    "database=[]\n",
    "chi2_result=[]\n",
    "vector_result=[]\n",
    "true_GRB_ra, true_GRB_dec = [],[]\n",
    "\n",
    "GRB_ra_array,GRB_dec_array = isotropicpoints(n)\n",
    "\n",
    "for GRB_ra,GRB_dec in zip(GRB_ra_array,GRB_dec_array):\n",
    "    counts = observedcounts(GRB_ra,GRB_dec,flux,noise)\n",
    "\n",
    "    vec_result = vectorlocalisation(counts,noise)\n",
    "    if vec_result is None:\n",
    "        continue\n",
    "\n",
    "    chira,chidec,chiflux = chi2localisation(counts,NSIDE,panels,noise)\n",
    "    chi2_result.append((chira,chidec,chiflux))\n",
    "\n",
    "    vecra,vecdec,vecflux = vectorlocalisation(counts,noise)\n",
    "    vector_result.append((vecra,vecdec,vecflux))\n",
    "\n",
    "    database.append({'Counts': counts,'GRB_ra': GRB_ra,'GRB_dec': GRB_dec})\n",
    "\n",
    "    true_GRB_ra.append(GRB_ra)\n",
    "    true_GRB_dec.append(GRB_dec)\n",
    "\n",
    "#df=pd.DataFrame(database)\n",
    "#df.to_csv('100uniformcounts.csv')\n",
    "\n",
    "chi2_ra,chi2_dec,chi2_flux = np.array(chi2_result).T\n",
    "vec_ra,vec_dec,vec_flux = np.array(vector_result).T\n",
    "\n",
    "#errors\n",
    "chi2ra_error = chi2_ra- np.array(true_GRB_ra)\n",
    "chi2dec_error = chi2_dec - np.array(true_GRB_dec)\n",
    "chi2flux_error = chi2_flux - flux\n",
    "\n",
    "vecra_error = vec_ra-np.array(true_GRB_ra)\n",
    "vecdec_error = vec_dec - np.array(true_GRB_dec)\n",
    "vecflux_error = vec_flux - flux \n",
    "\n",
    "bins=round(np.sqrt(vecflux_error.shape[0]))\n",
    "\n",
    "plotdistribution(chi2ra_error,vecra_error,'Chi2','Vector',0,'RA error','difference',bins)\n",
    "plotdistribution(chi2dec_error,vecdec_error,'Chi2','Vector',0,'Dec error','difference',bins)\n",
    "plotdistribution(chi2flux_error,vecflux_error,'Chi2','Vector',0,'Flux error','difference',bins)\n"
   ]
  },
  {
   "cell_type": "code",
   "execution_count": null,
   "id": "98bf8b84",
   "metadata": {},
   "outputs": [],
   "source": [
    "GRB_ra, GRB_dec = isotropicpoints(5000)\n",
    "import matplotlib.pyplot as plt\n",
    "\n",
    "theta = np.radians(90 - GRB_dec)\n",
    "#phi = np.radians(GRB_ra)\n",
    "plt.hist(np.cos(theta), bins=50)\n",
    "plt.xlabel(\"cos(theta)\")\n",
    "plt.ylabel(\"Frequency\")\n",
    "plt.grid(True)\n",
    "plt.show()\n"
   ]
  },
  {
   "cell_type": "code",
   "execution_count": null,
   "id": "3f84fc16",
   "metadata": {},
   "outputs": [],
   "source": [
    "import sys\n",
    "import os\n",
    "sys.path.append(os.path.abspath(\"..\"))\n",
    "\n",
    "from localisation.locfunction import *\n",
    "\n",
    "import numpy as np\n",
    "\n",
    "n=100\n",
    "noise=3000\n",
    "flux=2780\n",
    "NSIDE = 128\n",
    "panels=5\n",
    "injection_dict = {}\n",
    "error_dict = {}  \n",
    "results_dict = {}  \n",
    "\n",
    "GRB_ra_array,GRB_dec_array = isotropicpoints(n)\n",
    "\n",
    "for GRB_ra,GRB_dec in zip(GRB_ra_array,GRB_dec_array):\n",
    "    injections=[]\n",
    "    errors_list=[]\n",
    "    results_list=[]\n",
    "    for _ in range(1000):\n",
    "        counts = observedcounts(GRB_ra,GRB_dec,flux,noise)\n",
    "        injections.append(counts)\n",
    "\n",
    "        vec_result = vectorlocalisation(counts,noise)\n",
    "        if vec_result is None:\n",
    "            continue\n",
    "\n",
    "        chira,chidec,chiflux = chi2localisation(counts,NSIDE,panels,noise)\n",
    "\n",
    "        vecra,vecdec,vecflux = vectorlocalisation(counts,noise)\n",
    "\n",
    "        error_row = [\n",
    "            chira -GRB_ra,\n",
    "            chidec - GRB_dec,\n",
    "            chiflux - flux,\n",
    "            vecra - GRB_ra,\n",
    "            vecdec- GRB_dec,\n",
    "            vecflux-flux\n",
    "        ]\n",
    "        errors_list.append(error_row)\n",
    "\n",
    "        result_row = [\n",
    "            GRB_ra, GRB_dec,\n",
    "            chira, chidec, chiflux,\n",
    "            vecra, vecdec, vecflux\n",
    "        ]\n",
    "        results_list.append(result_row)\n",
    "    \n",
    "    key = f\"{GRB_ra:.5f}_{GRB_dec:.5f}\"\n",
    "    error_dict[key] = np.array(errors_list)\n",
    "    results_dict[key] = np.array(results_list)\n",
    "    injection_dict[key] = np.array(injections)\n",
    "\n",
    "\n",
    "np.savez(\"injections.npz\", **injection_dict)\n",
    "np.savez(\"sourcewise_errors.npz\", **error_dict)\n",
    "np.savez(\"sourcewise_results.npz\", **results_dict)"
   ]
  },
  {
   "cell_type": "code",
   "execution_count": 7,
   "id": "24d031ac",
   "metadata": {},
   "outputs": [
    {
     "name": "stdout",
     "output_type": "stream",
     "text": [
      "['194.94030_48.27685', '116.79416_23.18317', '92.77524_6.55298', '114.46516_12.83197', '305.18148_21.29417', '50.70658_49.42316', '57.80473_43.02992', '180.67714_3.61692', '81.60303_28.12787', '296.50080_33.10995', '195.59201_0.66326', '124.18344_30.13552', '31.32001_64.91248', '334.77948_3.50277', '124.26853_40.78595', '242.85823_64.75020', '316.77185_32.98300', '24.17327_12.02230', '170.87539_78.56646', '30.52676_17.56550', '56.40705_4.04226', '13.09502_17.67366', '292.59582_67.66765', '83.06670_58.55480', '172.14608_62.72727', '282.68721_9.99373', '283.96807_7.74137', '185.41330_32.71834', '214.10135_21.26407', '272.80871_29.14582', '318.95094_27.64618', '292.94336_45.48607', '53.56264_19.89577', '229.20332_62.18740', '22.11652_57.92252', '148.48034_64.17477', '272.42075_64.82952', '168.19224_17.18112', '275.75764_28.13942', '155.79097_16.01801', '136.95712_51.11070', '198.21199_28.49732', '42.79564_23.65383', '304.79881_60.02083', '83.60689_79.25148', '248.36998_40.94730', '334.07598_34.69611', '59.58959_10.04284', '47.23470_52.33238', '352.63048_58.30251', '109.89506_53.03675', '17.22537_46.86763', '315.68321_36.26200', '87.69551_56.90343', '114.46098_75.17428', '304.68141_53.17115', '339.60545_34.61800', '59.82152_80.82759', '328.97266_48.01198', '194.55396_6.81104', '94.36420_15.02027', '180.16562_52.09965', '282.84910_66.62437', '165.34432_9.10489', '348.82329_54.67602', '112.10464_31.88720', '257.95896_40.83235', '157.19468_6.95890', '18.76593_23.20634', '172.26589_21.04873', '221.74129_23.49576', '132.67960_31.82584', '297.52632_7.61140', '61.79481_45.17737', '142.70541_8.21916', '15.18425_11.15387', '85.10791_54.70326', '274.95584_58.85191', '264.75261_28.96834', '177.80881_48.40462', '187.98613_26.70324', '158.77079_2.28170', '195.82776_32.31848', '16.43009_2.41287', '141.03124_42.13459', '294.33188_23.24450', '222.11796_55.04107', '256.47565_29.36458', '1.26182_33.93857', '138.23706_28.12732', '32.40488_48.78295', '113.56252_2.73690', '16.49802_63.58729', '118.66393_41.16102', '62.79791_65.02633', '157.49474_9.78216', '61.31258_33.63728', '212.88350_30.68292', '49.91532_8.85292', '196.34588_24.61168']\n"
     ]
    }
   ],
   "source": [
    "import numpy as np\n",
    "data= np.load(\"injections.npz\")\n",
    "print(data.files)"
   ]
  },
  {
   "cell_type": "code",
   "execution_count": null,
   "id": "9ca277dd",
   "metadata": {},
   "outputs": [
    {
     "name": "stdout",
     "output_type": "stream",
     "text": [
      "['194.94030_48.27685', '116.79416_23.18317', '92.77524_6.55298', '114.46516_12.83197', '305.18148_21.29417', '50.70658_49.42316', '57.80473_43.02992', '180.67714_3.61692', '81.60303_28.12787', '296.50080_33.10995', '195.59201_0.66326', '124.18344_30.13552', '31.32001_64.91248', '334.77948_3.50277', '124.26853_40.78595', '242.85823_64.75020', '316.77185_32.98300', '24.17327_12.02230', '170.87539_78.56646', '30.52676_17.56550', '56.40705_4.04226', '13.09502_17.67366', '292.59582_67.66765', '83.06670_58.55480', '172.14608_62.72727', '282.68721_9.99373', '283.96807_7.74137', '185.41330_32.71834', '214.10135_21.26407', '272.80871_29.14582', '318.95094_27.64618', '292.94336_45.48607', '53.56264_19.89577', '229.20332_62.18740', '22.11652_57.92252', '148.48034_64.17477', '272.42075_64.82952', '168.19224_17.18112', '275.75764_28.13942', '155.79097_16.01801', '136.95712_51.11070', '198.21199_28.49732', '42.79564_23.65383', '304.79881_60.02083', '83.60689_79.25148', '248.36998_40.94730', '334.07598_34.69611', '59.58959_10.04284', '47.23470_52.33238', '352.63048_58.30251', '109.89506_53.03675', '17.22537_46.86763', '315.68321_36.26200', '87.69551_56.90343', '114.46098_75.17428', '304.68141_53.17115', '339.60545_34.61800', '59.82152_80.82759', '328.97266_48.01198', '194.55396_6.81104', '94.36420_15.02027', '180.16562_52.09965', '282.84910_66.62437', '165.34432_9.10489', '348.82329_54.67602', '112.10464_31.88720', '257.95896_40.83235', '157.19468_6.95890', '18.76593_23.20634', '172.26589_21.04873', '221.74129_23.49576', '132.67960_31.82584', '297.52632_7.61140', '61.79481_45.17737', '142.70541_8.21916', '15.18425_11.15387', '85.10791_54.70326', '274.95584_58.85191', '264.75261_28.96834', '177.80881_48.40462', '187.98613_26.70324', '158.77079_2.28170', '195.82776_32.31848', '16.43009_2.41287', '141.03124_42.13459', '294.33188_23.24450', '222.11796_55.04107', '256.47565_29.36458', '1.26182_33.93857', '138.23706_28.12732', '32.40488_48.78295', '113.56252_2.73690', '16.49802_63.58729', '118.66393_41.16102', '62.79791_65.02633', '157.49474_9.78216', '61.31258_33.63728', '212.88350_30.68292', '49.91532_8.85292', '196.34588_24.61168']\n"
     ]
    }
   ],
   "source": [
    "\n",
    "print(err.files)"
   ]
  },
  {
   "cell_type": "code",
   "execution_count": 34,
   "id": "86cef25a",
   "metadata": {},
   "outputs": [
    {
     "data": {
      "text/plain": [
       "\"\\nra_err_chi2 = df[:,0]\\ndec_err_chi2 = df[:,1]\\nflux_err_chi2 = df[:,2]\\nra_err_vec = df[:,3]\\ndec_err_vec = df[:,4]\\nflux_err_vec = df[:,5]\\n\\n#plotdistribution(ra_err_chi2,ra_err_vec,'RA Error Chi2','RA Error Vec',0,'RA Error','Error')\\n\""
      ]
     },
     "execution_count": 34,
     "metadata": {},
     "output_type": "execute_result"
    }
   ],
   "source": [
    "err = np.load(\"sourcewise_errors.npz\")\n",
    "keys = list(err.files)\n",
    "\n",
    "source=keys[0]\n",
    "df = err[source]\n",
    "\n",
    "'''\n",
    "ra_err_chi2 = df[:,0]\n",
    "dec_err_chi2 = df[:,1]\n",
    "flux_err_chi2 = df[:,2]\n",
    "ra_err_vec = df[:,3]\n",
    "dec_err_vec = df[:,4]\n",
    "flux_err_vec = df[:,5]\n",
    "\n",
    "#plotdistribution(ra_err_chi2,ra_err_vec,'RA Error Chi2','RA Error Vec',0,'RA Error','Error')\n",
    "'''"
   ]
  },
  {
   "cell_type": "code",
   "execution_count": 35,
   "id": "c39c37a8",
   "metadata": {},
   "outputs": [
    {
     "data": {
      "text/plain": [
       "array([[-12.85697098,   1.42554391, 108.26042872,   7.37642092,\n",
       "         -6.16657995,  86.26292409]])"
      ]
     },
     "execution_count": 35,
     "metadata": {},
     "output_type": "execute_result"
    }
   ],
   "source": [
    "df"
   ]
  },
  {
   "cell_type": "code",
   "execution_count": 25,
   "id": "50b9ca0e",
   "metadata": {},
   "outputs": [
    {
     "name": "stdout",
     "output_type": "stream",
     "text": [
      "<class 'numpy.ndarray'>\n",
      "(1, 6)\n",
      "[[-12.85697098   1.42554391 108.26042872   7.37642092  -6.16657995\n",
      "   86.26292409]]\n"
     ]
    }
   ],
   "source": [
    "print(type(df))\n",
    "print(df.shape)\n",
    "print(df)\n"
   ]
  },
  {
   "cell_type": "code",
   "execution_count": null,
   "id": "7c358cae",
   "metadata": {},
   "outputs": [],
   "source": []
  }
 ],
 "metadata": {
  "kernelspec": {
   "display_name": "daksha",
   "language": "python",
   "name": "python3"
  },
  "language_info": {
   "codemirror_mode": {
    "name": "ipython",
    "version": 3
   },
   "file_extension": ".py",
   "mimetype": "text/x-python",
   "name": "python",
   "nbconvert_exporter": "python",
   "pygments_lexer": "ipython3",
   "version": "3.10.12"
  }
 },
 "nbformat": 4,
 "nbformat_minor": 5
}
